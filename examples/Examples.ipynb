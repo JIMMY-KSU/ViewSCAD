{
 "cells": [
  {
   "cell_type": "markdown",
   "metadata": {},
   "source": [
    "Import SolidPython and viewscad:"
   ]
  },
  {
   "cell_type": "code",
   "execution_count": 1,
   "metadata": {},
   "outputs": [],
   "source": [
    "from solid import *\n",
    "import viewscad\n",
    "\n",
    "r = viewscad.Renderer()"
   ]
  },
  {
   "cell_type": "markdown",
   "metadata": {},
   "source": [
    "Let's create an object:"
   ]
  },
  {
   "cell_type": "code",
   "execution_count": 2,
   "metadata": {},
   "outputs": [
    {
     "data": {
      "application/vnd.jupyter.widget-view+json": {
       "model_id": "a93df5389c394ded8a7583e61cfd0dd5",
       "version_major": 2,
       "version_minor": 0
      },
      "text/plain": [
       "Renderer(background='#cccc88', background_opacity=0.0, camera=PerspectiveCamera(children=(DirectionalLight(int…"
      ]
     },
     "metadata": {},
     "output_type": "display_data"
    },
    {
     "data": {
      "application/vnd.jupyter.widget-view+json": {
       "model_id": "9e6f5aabfa0c4ed0a49c0bf478460d19",
       "version_major": 2,
       "version_minor": 0
      },
      "text/plain": [
       "HTML(value='\\n<svg width=\"600\" height=\"30\">\\n<rect width=\"20\" height=\"20\" x=\"300\" y=\"0\" style=\"fill:none;strok…"
      ]
     },
     "metadata": {},
     "output_type": "display_data"
    }
   ],
   "source": [
    "c = cylinder(r=5, h=2)\n",
    "c -= minkowski() (translate([0, 0, 1]) (cylinder(r=3, h=1.5)), sphere(r=0.2))\n",
    "c -= cylinder(r=1, h=3, center=True)\n",
    "c -= translate([0, -1, 0]) (cube([6, 2, 3]))\n",
    "r.render(c)"
   ]
  },
  {
   "cell_type": "markdown",
   "metadata": {},
   "source": [
    "The renderer can also render raw OpenSCAD code, and save objects to .STL files:"
   ]
  },
  {
   "cell_type": "code",
   "execution_count": 9,
   "metadata": {},
   "outputs": [
    {
     "data": {
      "application/vnd.jupyter.widget-view+json": {
       "model_id": "d7cb100652594dfdb38a062d55a61607",
       "version_major": 2,
       "version_minor": 0
      },
      "text/plain": [
       "Renderer(background='#cccc88', background_opacity=0.0, camera=PerspectiveCamera(children=(DirectionalLight(int…"
      ]
     },
     "metadata": {},
     "output_type": "display_data"
    },
    {
     "data": {
      "application/vnd.jupyter.widget-view+json": {
       "model_id": "0733e743f4d5430d8bf5bf22e3f3c1a5",
       "version_major": 2,
       "version_minor": 0
      },
      "text/plain": [
       "HTML(value='\\n<svg width=\"600\" height=\"30\">\\n<rect width=\"20\" height=\"20\" x=\"300\" y=\"0\" style=\"fill:none;strok…"
      ]
     },
     "metadata": {},
     "output_type": "display_data"
    }
   ],
   "source": [
    "scad_code = '''\n",
    "union() {\n",
    "    cube([1,1,10]);\n",
    "    sphere(r=2);\n",
    "}\n",
    "'''\n",
    "r.render(scad_code, outfile='tmp.stl')"
   ]
  },
  {
   "cell_type": "markdown",
   "metadata": {},
   "source": [
    "A more complex object: a Sierpinski tetrahedron:"
   ]
  },
  {
   "cell_type": "code",
   "execution_count": 8,
   "metadata": {},
   "outputs": [
    {
     "data": {
      "application/vnd.jupyter.widget-view+json": {
       "model_id": "1b5ab57536e64cfe87f8a40956e8bb70",
       "version_major": 2,
       "version_minor": 0
      },
      "text/plain": [
       "Renderer(background='#cccc88', background_opacity=0.0, camera=PerspectiveCamera(children=(DirectionalLight(int…"
      ]
     },
     "metadata": {},
     "output_type": "display_data"
    },
    {
     "data": {
      "application/vnd.jupyter.widget-view+json": {
       "model_id": "a667c60bf66049929ae7653bbe0592b0",
       "version_major": 2,
       "version_minor": 0
      },
      "text/plain": [
       "HTML(value='\\n<svg width=\"600\" height=\"30\">\\n<rect width=\"20\" height=\"20\" x=\"300\" y=\"0\" style=\"fill:none;strok…"
      ]
     },
     "metadata": {},
     "output_type": "display_data"
    }
   ],
   "source": [
    "import numpy as np\n",
    "\n",
    "points=np.array([[0,0,0], [1,0,0],[0.5,0.5*np.sqrt(3), 0], [0.5, 0.5/np.sqrt(3), np.sqrt(2./3)]])\n",
    "def tetra():\n",
    "    return polyhedron(points=points, faces=[[0,1,2], [0,3,1], [0,2,3], [1,3,2]])\n",
    "\n",
    "def sierpinski(depth, size):\n",
    "    if depth == 0:\n",
    "        return scale(size) (tetra())\n",
    "    else:\n",
    "        obj = None\n",
    "        for point in points:\n",
    "            o = translate(size/2*point) (sierpinski(depth-1, size/2))\n",
    "            if obj is None: obj = o\n",
    "            else: obj += o\n",
    "        \n",
    "        return obj\n",
    "    \n",
    "r.render(sierpinski(3, 1.))"
   ]
  }
 ],
 "metadata": {
  "kernelspec": {
   "display_name": "Python 3",
   "language": "python",
   "name": "python3"
  },
  "language_info": {
   "codemirror_mode": {
    "name": "ipython",
    "version": 3
   },
   "file_extension": ".py",
   "mimetype": "text/x-python",
   "name": "python",
   "nbconvert_exporter": "python",
   "pygments_lexer": "ipython3",
   "version": "3.7.0"
  }
 },
 "nbformat": 4,
 "nbformat_minor": 2
}
